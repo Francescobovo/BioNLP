{
 "cells": [
  {
   "cell_type": "code",
   "execution_count": 1,
   "metadata": {},
   "outputs": [],
   "source": [
    "import numpy as np\n",
    "import pandas as pd\n",
    "\n",
    "from pyspark.ml import Pipeline"
   ]
  },
  {
   "cell_type": "code",
   "execution_count": 3,
   "metadata": {},
   "outputs": [],
   "source": [
    "df = pd.read_csv('/home/s2264951/SDDM/data/mimiciii.csv')\n",
    "\n",
    "clinical_notes_list = df['TEXT'].tolist()"
   ]
  },
  {
   "cell_type": "code",
   "execution_count": 4,
   "metadata": {},
   "outputs": [
    {
     "data": {
      "text/plain": [
       "\"#1Resp\\nBaby remains [**Name2 (NI) 2816**] [**Name2 (NI) 2807**] cannula 1l at 40-45% FIO2.\\nRR 40-60 with ic/sc retractions. No spells but occ drift in\\nsat to 80's. Lungs clear.\\nA. [**Name2 (NI) **] NC\\nP. Cont to monitor O2 requirement\\n#2FEN\\nWt 2.375 up 15g. TF at 140cc/kg or 55cc q4. Baby receiving\\nBM32 with bene. Feed given over 1 hour. Abd soft, active\\nbowel sounds. Void and trace stool. Min asp.\\nA. [**Name2 (NI) **] feed\\nP. Cont to monitor [**Name2 (NI) **] to feeds as well as weight gain\\n#4Dev\\nTemp stable swaddled in an open crib. Calm disposition.\\nAwake and [**Name2 (NI) **] with cares but tires and falls back to\\nsleep.\\n#5Parent\\nno contact so far this shift\\n\\n\\n\""
      ]
     },
     "execution_count": 4,
     "metadata": {},
     "output_type": "execute_result"
    }
   ],
   "source": [
    "clinical_notes_list[0]"
   ]
  },
  {
   "cell_type": "code",
   "execution_count": 5,
   "metadata": {},
   "outputs": [],
   "source": [
    "import sparknlp\n",
    "\n",
    "from sparknlp.base import *\n",
    "from sparknlp.annotator import *\n",
    "from pyspark.sql.types import StringType"
   ]
  },
  {
   "cell_type": "code",
   "execution_count": 6,
   "metadata": {},
   "outputs": [],
   "source": [
    "# starting spark session with spark-nlp\n",
    "\n",
    "spark = sparknlp.start()"
   ]
  },
  {
   "cell_type": "code",
   "execution_count": 7,
   "metadata": {},
   "outputs": [],
   "source": [
    "data = spark.createDataFrame(clinical_notes_list, StringType()).toDF('text')"
   ]
  },
  {
   "cell_type": "code",
   "execution_count": 8,
   "metadata": {
    "scrolled": true
   },
   "outputs": [
    {
     "name": "stdout",
     "output_type": "stream",
     "text": [
      "+-------------------------------------------------------------------------------------------------------------------------------------------------------------------------------------------------------------------------------------------------------------------------------------------------------------------------------------------------------------------------------------------------------------------------------------------------------------------------------------------------------------------------------------------------------------------------------------------------------------------------------------------------------------------------------------------------+\n",
      "|text                                                                                                                                                                                                                                                                                                                                                                                                                                                                                                                                                                                                                                                                                             |\n",
      "+-------------------------------------------------------------------------------------------------------------------------------------------------------------------------------------------------------------------------------------------------------------------------------------------------------------------------------------------------------------------------------------------------------------------------------------------------------------------------------------------------------------------------------------------------------------------------------------------------------------------------------------------------------------------------------------------------+\n",
      "|#1Resp\n",
      "Baby remains [**Name2 (NI) 2816**] [**Name2 (NI) 2807**] cannula 1l at 40-45% FIO2.\n",
      "RR 40-60 with ic/sc retractions. No spells but occ drift in\n",
      "sat to 80's. Lungs clear.\n",
      "A. [**Name2 (NI) **] NC\n",
      "P. Cont to monitor O2 requirement\n",
      "#2FEN\n",
      "Wt 2.375 up 15g. TF at 140cc/kg or 55cc q4. Baby receiving\n",
      "BM32 with bene. Feed given over 1 hour. Abd soft, active\n",
      "bowel sounds. Void and trace stool. Min asp.\n",
      "A. [**Name2 (NI) **] feed\n",
      "P. Cont to monitor [**Name2 (NI) **] to feeds as well as weight gain\n",
      "#4Dev\n",
      "Temp stable swaddled in an open crib. Calm disposition.\n",
      "Awake and [**Name2 (NI) **] with cares but tires and falls back to\n",
      "sleep.\n",
      "#5Parent\n",
      "no contact so far this shift\n",
      "\n",
      "\n",
      "|\n",
      "|Agree with above note by coworker. Baby mildly tachypneic at times after feed with RRup to70's. She appears comf however. Soft murmur heard. She had small to mod spit after 0500 feed. She had pulled out feed tube and left out.\n",
      "                                                                                                                                                                                                                                                                                                                                                                                                                                                              |\n",
      "+-------------------------------------------------------------------------------------------------------------------------------------------------------------------------------------------------------------------------------------------------------------------------------------------------------------------------------------------------------------------------------------------------------------------------------------------------------------------------------------------------------------------------------------------------------------------------------------------------------------------------------------------------------------------------------------------------+\n",
      "only showing top 2 rows\n",
      "\n"
     ]
    }
   ],
   "source": [
    "data.show(2, truncate= False)"
   ]
  },
  {
   "cell_type": "code",
   "execution_count": 9,
   "metadata": {},
   "outputs": [],
   "source": [
    "document_assembler = DocumentAssembler()\\\n",
    "        .setInputCol('text')\\\n",
    "        .setOutputCol('document')\n",
    "\n",
    "sentenceDetector = SentenceDetector()\\\n",
    "        .setInputCols(['document'])\\\n",
    "        .setOutputCol('sentence')\\\n",
    "        .setCustomBounds(['\\n'])\\\n",
    "        .setUseCustomBoundsOnly(True)\\\n",
    "        .setExplodeSentences(True)\n",
    "\n",
    "tokenizer = Tokenizer() \\\n",
    "        .setInputCols(['sentence']) \\\n",
    "        .setOutputCol('token')\n",
    "\n",
    "normalizer = Normalizer()\\\n",
    "        .setInputCols(['token'])\\\n",
    "        .setOutputCol('normal')\\\n",
    "        .setLowercase(False)\\\n",
    "        .setCleanupPatterns(['[\\!\"\\[\\]$&\\*+,/:;=?@^_`()|~=]'])\n",
    "\n",
    "finisher = Finisher() \\\n",
    "        .setInputCols([\"sentence\", \"normal\"]) \\\n",
    "        .setIncludeMetadata(True)"
   ]
  },
  {
   "cell_type": "code",
   "execution_count": 10,
   "metadata": {},
   "outputs": [],
   "source": [
    "pipeline = Pipeline(stages=[\n",
    "    document_assembler,\n",
    "    sentenceDetector,\n",
    "    tokenizer,\n",
    "    normalizer,\n",
    "    finisher\n",
    "])"
   ]
  },
  {
   "cell_type": "code",
   "execution_count": 11,
   "metadata": {},
   "outputs": [],
   "source": [
    "pipelineModel = pipeline.fit(data)"
   ]
  },
  {
   "cell_type": "code",
   "execution_count": 12,
   "metadata": {},
   "outputs": [],
   "source": [
    "result = pipelineModel.transform(data)"
   ]
  },
  {
   "cell_type": "code",
   "execution_count": 13,
   "metadata": {},
   "outputs": [
    {
     "name": "stdout",
     "output_type": "stream",
     "text": [
      "+-----------------------------------------------------------------------------------+\n",
      "|finished_normal                                                                    |\n",
      "+-----------------------------------------------------------------------------------+\n",
      "|[#1Resp]                                                                           |\n",
      "|[Baby, remains, Name2, NI, 2816, Name2, NI, 2807, cannula, 1l, at, 40-45%, FIO2, .]|\n",
      "|[RR, 40-60, with, icsc, retractions, ., No, spells, but, occ, drift, in]           |\n",
      "|[sat, to, 80's, ., Lungs, clear, .]                                                |\n",
      "|[A, ., Name2, NI, NC]                                                              |\n",
      "|[P, ., Cont, to, monitor, O2, requirement]                                         |\n",
      "|[#2FEN]                                                                            |\n",
      "|[Wt, 2.375, up, 15g, ., TF, at, 140cckg, or, 55cc, q4, ., Baby, receiving]         |\n",
      "|[BM32, with, bene, ., Feed, given, over, 1, hour, ., Abd, soft, active]            |\n",
      "|[bowel, sounds, ., Void, and, trace, stool, ., Min, asp, .]                        |\n",
      "+-----------------------------------------------------------------------------------+\n",
      "only showing top 10 rows\n",
      "\n"
     ]
    }
   ],
   "source": [
    "result.select('finished_normal').show(10, truncate=False)"
   ]
  },
  {
   "cell_type": "code",
   "execution_count": 14,
   "metadata": {},
   "outputs": [
    {
     "data": {
      "text/plain": [
       "79740187"
      ]
     },
     "execution_count": 14,
     "metadata": {},
     "output_type": "execute_result"
    }
   ],
   "source": [
    "# dataframe shape\n",
    "result.count()"
   ]
  },
  {
   "cell_type": "code",
   "execution_count": null,
   "metadata": {
    "scrolled": false
   },
   "outputs": [],
   "source": [
    "# limit to 10 otherwise it raises error\n",
    "\n",
    "sentence_list = result.select(\"finished_normal\").limit(10).rdd.flatMap(lambda x: x).collect()"
   ]
  },
  {
   "cell_type": "code",
   "execution_count": 16,
   "metadata": {
    "scrolled": true
   },
   "outputs": [
    {
     "data": {
      "text/plain": [
       "[['#1Resp'],\n",
       " ['Baby',\n",
       "  'remains',\n",
       "  'Name2',\n",
       "  'NI',\n",
       "  '2816',\n",
       "  'Name2',\n",
       "  'NI',\n",
       "  '2807',\n",
       "  'cannula',\n",
       "  '1l',\n",
       "  'at',\n",
       "  '40-45%',\n",
       "  'FIO2',\n",
       "  '.'],\n",
       " ['RR',\n",
       "  '40-60',\n",
       "  'with',\n",
       "  'icsc',\n",
       "  'retractions',\n",
       "  '.',\n",
       "  'No',\n",
       "  'spells',\n",
       "  'but',\n",
       "  'occ',\n",
       "  'drift',\n",
       "  'in'],\n",
       " ['sat', 'to', \"80's\", '.', 'Lungs', 'clear', '.'],\n",
       " ['A', '.', 'Name2', 'NI', 'NC'],\n",
       " ['P', '.', 'Cont', 'to', 'monitor', 'O2', 'requirement'],\n",
       " ['#2FEN'],\n",
       " ['Wt',\n",
       "  '2.375',\n",
       "  'up',\n",
       "  '15g',\n",
       "  '.',\n",
       "  'TF',\n",
       "  'at',\n",
       "  '140cckg',\n",
       "  'or',\n",
       "  '55cc',\n",
       "  'q4',\n",
       "  '.',\n",
       "  'Baby',\n",
       "  'receiving'],\n",
       " ['BM32',\n",
       "  'with',\n",
       "  'bene',\n",
       "  '.',\n",
       "  'Feed',\n",
       "  'given',\n",
       "  'over',\n",
       "  '1',\n",
       "  'hour',\n",
       "  '.',\n",
       "  'Abd',\n",
       "  'soft',\n",
       "  'active'],\n",
       " ['bowel',\n",
       "  'sounds',\n",
       "  '.',\n",
       "  'Void',\n",
       "  'and',\n",
       "  'trace',\n",
       "  'stool',\n",
       "  '.',\n",
       "  'Min',\n",
       "  'asp',\n",
       "  '.']]"
      ]
     },
     "execution_count": 16,
     "metadata": {},
     "output_type": "execute_result"
    }
   ],
   "source": [
    "# this format (list of list of words) is needed as input for Gensim training algorithm\n",
    "\n",
    "sentence_list[:10]"
   ]
  },
  {
   "cell_type": "markdown",
   "metadata": {},
   "source": [
    "### TRAINING EMBEDDINGS WITH GENSIM"
   ]
  },
  {
   "cell_type": "code",
   "execution_count": 17,
   "metadata": {},
   "outputs": [],
   "source": [
    "from gensim.models import Word2Vec\n",
    "from gensim.models.phrases import Phraser, Phrases"
   ]
  },
  {
   "cell_type": "code",
   "execution_count": 35,
   "metadata": {},
   "outputs": [],
   "source": [
    "# Phrase Detection\n",
    "# Give some common terms that can be ignored in phrase detection\n",
    "\n",
    "common_terms = [\"of\", \"with\", \"without\", \"and\", \"or\", \"the\", \"a\", \"at\", \"to\"]\n",
    "\n",
    "phrases = Phrases(sentence_list, common_terms = common_terms)"
   ]
  },
  {
   "cell_type": "code",
   "execution_count": 36,
   "metadata": {},
   "outputs": [],
   "source": [
    "#Phraser object created\n",
    "bigram = Phraser(phrases)"
   ]
  },
  {
   "cell_type": "code",
   "execution_count": 37,
   "metadata": {},
   "outputs": [],
   "source": [
    "phrased_sentence_list = list(bigram[sentence_list])"
   ]
  },
  {
   "cell_type": "code",
   "execution_count": 38,
   "metadata": {},
   "outputs": [
    {
     "name": "stdout",
     "output_type": "stream",
     "text": [
      "['Baby', 'remains', 'Name2', 'NI', '2816', 'Name2', 'NI', '2807', 'cannula', '1l', 'at', '40-45%', 'FIO2', '.']\n"
     ]
    }
   ],
   "source": [
    "print(bigram[sentence_list[1]])"
   ]
  },
  {
   "cell_type": "markdown",
   "metadata": {},
   "source": [
    "### Train model"
   ]
  },
  {
   "cell_type": "code",
   "execution_count": 39,
   "metadata": {},
   "outputs": [],
   "source": [
    "model = Word2Vec(phrased_sentence_list,\n",
    "                min_count = 3, # the minimum count of words to consider when training the model\n",
    "                size = 200, # the number of dimensions of the embedding\n",
    "                workers = 32, # the number of threads to use while training\n",
    "                window = 7 # context window for words\n",
    "                )"
   ]
  },
  {
   "cell_type": "code",
   "execution_count": 40,
   "metadata": {},
   "outputs": [
    {
     "data": {
      "text/plain": [
       "65"
      ]
     },
     "execution_count": 40,
     "metadata": {},
     "output_type": "execute_result"
    }
   ],
   "source": [
    "len(model.wv.vocab)"
   ]
  },
  {
   "cell_type": "code",
   "execution_count": 41,
   "metadata": {
    "scrolled": true
   },
   "outputs": [
    {
     "data": {
      "text/plain": [
       "{'#1Resp': <gensim.models.keyedvectors.Vocab at 0x7f310c043710>,\n",
       " 'Baby': <gensim.models.keyedvectors.Vocab at 0x7f310c043650>,\n",
       " 'remains': <gensim.models.keyedvectors.Vocab at 0x7f310c043750>,\n",
       " 'Name2': <gensim.models.keyedvectors.Vocab at 0x7f310c043790>,\n",
       " 'NI': <gensim.models.keyedvectors.Vocab at 0x7f310c043810>,\n",
       " '2816': <gensim.models.keyedvectors.Vocab at 0x7f310c043890>,\n",
       " '2807': <gensim.models.keyedvectors.Vocab at 0x7f310c043910>,\n",
       " 'cannula': <gensim.models.keyedvectors.Vocab at 0x7f310c043950>,\n",
       " '1l': <gensim.models.keyedvectors.Vocab at 0x7f310c043550>,\n",
       " 'at': <gensim.models.keyedvectors.Vocab at 0x7f310c043850>,\n",
       " '40-45%': <gensim.models.keyedvectors.Vocab at 0x7f310c043990>,\n",
       " 'FIO2': <gensim.models.keyedvectors.Vocab at 0x7f310c0438d0>,\n",
       " '.': <gensim.models.keyedvectors.Vocab at 0x7f30fd29cd50>,\n",
       " 'RR': <gensim.models.keyedvectors.Vocab at 0x7f30fd29ce10>,\n",
       " '40-60': <gensim.models.keyedvectors.Vocab at 0x7f30fd29cd10>,\n",
       " 'with': <gensim.models.keyedvectors.Vocab at 0x7f30fd29ced0>,\n",
       " 'icsc': <gensim.models.keyedvectors.Vocab at 0x7f30fd29ce50>,\n",
       " 'retractions': <gensim.models.keyedvectors.Vocab at 0x7f30fd29cb50>,\n",
       " 'No': <gensim.models.keyedvectors.Vocab at 0x7f30fd29c850>,\n",
       " 'spells': <gensim.models.keyedvectors.Vocab at 0x7f30fd29c9d0>,\n",
       " 'but': <gensim.models.keyedvectors.Vocab at 0x7f30fd29cbd0>,\n",
       " 'occ': <gensim.models.keyedvectors.Vocab at 0x7f30fd29cd90>,\n",
       " 'drift': <gensim.models.keyedvectors.Vocab at 0x7f30fd29cf10>,\n",
       " 'in': <gensim.models.keyedvectors.Vocab at 0x7f30fd29cc90>,\n",
       " 'sat': <gensim.models.keyedvectors.Vocab at 0x7f30fd29cdd0>,\n",
       " 'to': <gensim.models.keyedvectors.Vocab at 0x7f30fd29c810>,\n",
       " \"80's\": <gensim.models.keyedvectors.Vocab at 0x7f30fd29cfd0>,\n",
       " 'Lungs': <gensim.models.keyedvectors.Vocab at 0x7f30fd29cc50>,\n",
       " 'clear': <gensim.models.keyedvectors.Vocab at 0x7f30fd29c910>,\n",
       " 'A': <gensim.models.keyedvectors.Vocab at 0x7f30fd29ca90>,\n",
       " 'NC': <gensim.models.keyedvectors.Vocab at 0x7f310c031a90>,\n",
       " 'P': <gensim.models.keyedvectors.Vocab at 0x7f310c03c710>,\n",
       " 'Cont': <gensim.models.keyedvectors.Vocab at 0x7f310c03c910>,\n",
       " 'monitor': <gensim.models.keyedvectors.Vocab at 0x7f310c03c950>,\n",
       " 'O2': <gensim.models.keyedvectors.Vocab at 0x7f310c03c990>,\n",
       " 'requirement': <gensim.models.keyedvectors.Vocab at 0x7f310c03c9d0>,\n",
       " '#2FEN': <gensim.models.keyedvectors.Vocab at 0x7f310c03ca10>,\n",
       " 'Wt': <gensim.models.keyedvectors.Vocab at 0x7f310c03ca50>,\n",
       " '2.375': <gensim.models.keyedvectors.Vocab at 0x7f310c03ca90>,\n",
       " 'up': <gensim.models.keyedvectors.Vocab at 0x7f310c03cad0>,\n",
       " '15g': <gensim.models.keyedvectors.Vocab at 0x7f310c03cb10>,\n",
       " 'TF': <gensim.models.keyedvectors.Vocab at 0x7f310c03cb50>,\n",
       " '140cckg': <gensim.models.keyedvectors.Vocab at 0x7f310c03cb90>,\n",
       " 'or': <gensim.models.keyedvectors.Vocab at 0x7f310c03cbd0>,\n",
       " '55cc': <gensim.models.keyedvectors.Vocab at 0x7f310c03cc10>,\n",
       " 'q4': <gensim.models.keyedvectors.Vocab at 0x7f310c03cc50>,\n",
       " 'receiving': <gensim.models.keyedvectors.Vocab at 0x7f310c03cc90>,\n",
       " 'BM32': <gensim.models.keyedvectors.Vocab at 0x7f310c03ccd0>,\n",
       " 'bene': <gensim.models.keyedvectors.Vocab at 0x7f310c03cd10>,\n",
       " 'Feed': <gensim.models.keyedvectors.Vocab at 0x7f310c03cd50>,\n",
       " 'given': <gensim.models.keyedvectors.Vocab at 0x7f310c03cd90>,\n",
       " 'over': <gensim.models.keyedvectors.Vocab at 0x7f310c03cdd0>,\n",
       " '1': <gensim.models.keyedvectors.Vocab at 0x7f310c03ce10>,\n",
       " 'hour': <gensim.models.keyedvectors.Vocab at 0x7f310c03ce50>,\n",
       " 'Abd': <gensim.models.keyedvectors.Vocab at 0x7f310c03ce90>,\n",
       " 'soft': <gensim.models.keyedvectors.Vocab at 0x7f310c03ced0>,\n",
       " 'active': <gensim.models.keyedvectors.Vocab at 0x7f310c03cf10>,\n",
       " 'bowel': <gensim.models.keyedvectors.Vocab at 0x7f310c03cf50>,\n",
       " 'sounds': <gensim.models.keyedvectors.Vocab at 0x7f310c03cf90>,\n",
       " 'Void': <gensim.models.keyedvectors.Vocab at 0x7f310c03cfd0>,\n",
       " 'and': <gensim.models.keyedvectors.Vocab at 0x7f30fd2ab050>,\n",
       " 'trace': <gensim.models.keyedvectors.Vocab at 0x7f30fd2ab090>,\n",
       " 'stool': <gensim.models.keyedvectors.Vocab at 0x7f30fd2ab0d0>,\n",
       " 'Min': <gensim.models.keyedvectors.Vocab at 0x7f30fd2ab110>,\n",
       " 'asp': <gensim.models.keyedvectors.Vocab at 0x7f30fd2ab150>}"
      ]
     },
     "execution_count": 41,
     "metadata": {},
     "output_type": "execute_result"
    }
   ],
   "source": [
    "model.wv.vocab"
   ]
  },
  {
   "cell_type": "code",
   "execution_count": 42,
   "metadata": {},
   "outputs": [
    {
     "data": {
      "text/plain": [
       "10"
      ]
     },
     "execution_count": 42,
     "metadata": {},
     "output_type": "execute_result"
    }
   ],
   "source": [
    "len(phrased_sentence_list)"
   ]
  },
  {
   "cell_type": "code",
   "execution_count": 43,
   "metadata": {
    "scrolled": false
   },
   "outputs": [
    {
     "data": {
      "text/plain": [
       "[('over', 0.17315153777599335),\n",
       " ('40-45%', 0.155145525932312),\n",
       " ('active', 0.138882577419281),\n",
       " ('to', 0.12271511554718018),\n",
       " ('sat', 0.1222916916012764),\n",
       " ('monitor', 0.11807230114936829),\n",
       " ('retractions', 0.11444057524204254),\n",
       " ('140cckg', 0.11009781807661057),\n",
       " ('drift', 0.10835620015859604),\n",
       " ('1l', 0.1074826717376709)]"
      ]
     },
     "execution_count": 43,
     "metadata": {},
     "output_type": "execute_result"
    }
   ],
   "source": [
    "model.wv.most_similar('Baby')"
   ]
  },
  {
   "cell_type": "code",
   "execution_count": 45,
   "metadata": {
    "scrolled": true
   },
   "outputs": [
    {
     "data": {
      "text/plain": [
       "[('Min', 0.17005720734596252),\n",
       " ('40-60', 0.13682407140731812),\n",
       " ('A', 0.1233462318778038),\n",
       " ('Lungs', 0.11467423290014267),\n",
       " ('BM32', 0.11341571062803268),\n",
       " ('but', 0.10447914898395538),\n",
       " ('O2', 0.09901955723762512),\n",
       " ('FIO2', 0.09467938542366028),\n",
       " ('q4', 0.09222345054149628),\n",
       " ('receiving', 0.0826098620891571)]"
      ]
     },
     "execution_count": 45,
     "metadata": {},
     "output_type": "execute_result"
    }
   ],
   "source": [
    "model.wv.most_similar('trace')"
   ]
  },
  {
   "cell_type": "markdown",
   "metadata": {},
   "source": [
    "### Save model"
   ]
  },
  {
   "cell_type": "code",
   "execution_count": null,
   "metadata": {},
   "outputs": [],
   "source": [
    "model.wv.save_word2vec_format('model_embeddings.bin')"
   ]
  },
  {
   "cell_type": "code",
   "execution_count": null,
   "metadata": {},
   "outputs": [],
   "source": []
  },
  {
   "cell_type": "code",
   "execution_count": null,
   "metadata": {},
   "outputs": [],
   "source": [
    "spark.stop()"
   ]
  }
 ],
 "metadata": {
  "kernelspec": {
   "display_name": "Python 3",
   "language": "python",
   "name": "python3"
  },
  "language_info": {
   "codemirror_mode": {
    "name": "ipython",
    "version": 3
   },
   "file_extension": ".py",
   "mimetype": "text/x-python",
   "name": "python",
   "nbconvert_exporter": "python",
   "pygments_lexer": "ipython3",
   "version": "3.7.4"
  }
 },
 "nbformat": 4,
 "nbformat_minor": 4
}
